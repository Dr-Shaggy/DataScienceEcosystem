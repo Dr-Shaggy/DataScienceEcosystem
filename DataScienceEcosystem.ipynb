{
 "cells": [
  {
   "cell_type": "markdown",
   "id": "80f63967-92c4-4290-a117-70ef57313b48",
   "metadata": {},
   "source": [
    "# Data Science Tools and Ecosystem"
   ]
  },
  {
   "cell_type": "markdown",
   "id": "58b783db-c87e-4f6d-ab8b-4240bcf0dfe1",
   "metadata": {},
   "source": [
    "## Author\n",
    "Bryan R. Burnham"
   ]
  },
  {
   "cell_type": "markdown",
   "id": "3c0ccd89-55c9-4e69-b4af-775abe708d19",
   "metadata": {},
   "source": [
    "In this notebook, Data Science Tools and Ecosystem are summarized."
   ]
  },
  {
   "cell_type": "markdown",
   "id": "7c593d6b-c2f5-4d31-ab34-6144d5528893",
   "metadata": {},
   "source": [
    "__Objectives:__\n",
    "\n",
    "- Create ordered and unordered lists in Jupyter Notebook\n",
    "- Create a simple, one column table in Jupyter Notebook\n",
    "- Identify several commonly-used data science languages\n",
    "- Create siple code for arithmatic expressions"
   ]
  },
  {
   "cell_type": "markdown",
   "id": "c5c29c74-7ebb-4dbe-ba7f-35e3e0ca1221",
   "metadata": {},
   "source": [
    "Some of the popular languages that Data Scientists use are:\n",
    "1. Python\n",
    "2. R\n",
    "3. C++"
   ]
  },
  {
   "cell_type": "markdown",
   "id": "8171b2dd-45db-403c-9b45-c358f1a68bc9",
   "metadata": {},
   "source": [
    "Some of the commonly used libraries used by Data Scientists include:\n",
    "1. Numpy\n",
    "2. Matplotlib\n",
    "3. Seaborn\n",
    "4. Scipy\n",
    "5. Tensorflor"
   ]
  },
  {
   "cell_type": "markdown",
   "id": "72c21a2d-2945-4c86-83af-4c5bfddb7814",
   "metadata": {},
   "source": [
    "| Data Science Tools |\n",
    "| ------------------ |\n",
    "| Hadoop |\n",
    "| Spark |\n",
    "| ggplot2 |\n"
   ]
  },
  {
   "cell_type": "markdown",
   "id": "9afd7a0c-7dbc-4f20-85bf-f4233eb9390a",
   "metadata": {},
   "source": [
    "### Below are a few examples of evaluating arithmetic expressions in Python"
   ]
  },
  {
   "cell_type": "code",
   "execution_count": 23,
   "id": "a25b7791-a947-423a-9c94-824b2b5b94dc",
   "metadata": {},
   "outputs": [
    {
     "data": {
      "text/plain": [
       "17"
      ]
     },
     "execution_count": 23,
     "metadata": {},
     "output_type": "execute_result"
    }
   ],
   "source": [
    "# \"This a simple arithmetic expression to mutiply then add integers\"\n",
    "(3*4)+5"
   ]
  },
  {
   "cell_type": "code",
   "execution_count": 25,
   "id": "15c5fb18-12ea-44c6-9efb-ecc0b1f77671",
   "metadata": {},
   "outputs": [
    {
     "data": {
      "text/plain": [
       "3.3333333333333335"
      ]
     },
     "execution_count": 25,
     "metadata": {},
     "output_type": "execute_result"
    }
   ],
   "source": [
    "# This will convert 200 minutes to hours by diving by 60\n",
    "200/60"
   ]
  }
 ],
 "metadata": {
  "kernelspec": {
   "display_name": "Python 3 (ipykernel)",
   "language": "python",
   "name": "python3"
  },
  "language_info": {
   "codemirror_mode": {
    "name": "ipython",
    "version": 3
   },
   "file_extension": ".py",
   "mimetype": "text/x-python",
   "name": "python",
   "nbconvert_exporter": "python",
   "pygments_lexer": "ipython3",
   "version": "3.11.7"
  }
 },
 "nbformat": 4,
 "nbformat_minor": 5
}
